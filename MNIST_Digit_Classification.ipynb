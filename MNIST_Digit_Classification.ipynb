{
  "nbformat": 4,
  "nbformat_minor": 0,
  "metadata": {
    "colab": {
      "provenance": [],
      "authorship_tag": "ABX9TyPZ880p8RsWpnl0vwhDXbTH",
      "include_colab_link": true
    },
    "kernelspec": {
      "name": "python3",
      "display_name": "Python 3"
    },
    "language_info": {
      "name": "python"
    }
  },
  "cells": [
    {
      "cell_type": "markdown",
      "metadata": {
        "id": "view-in-github",
        "colab_type": "text"
      },
      "source": [
        "<a href=\"https://colab.research.google.com/github/riyaroy2086/ML-Projects/blob/main/MNIST_Digit_Classification.ipynb\" target=\"_parent\"><img src=\"https://colab.research.google.com/assets/colab-badge.svg\" alt=\"Open In Colab\"/></a>"
      ]
    },
    {
      "cell_type": "code",
      "execution_count": 20,
      "metadata": {
        "id": "oZH2su7-31Tv"
      },
      "outputs": [],
      "source": [
        "#To convert img data into numpy arrays\n",
        "#visualizing the img done\n",
        "import numpy as np \n",
        "#once we feed the numpy array to the plotlib we can see what the img is\n",
        "import matplotlib.pyplot as plt\n",
        "#Seaborn is a library that uses Matplotlib underneath to plot graphs. It will be used to visualize random distributions.\n",
        "import seaborn as sns \n",
        "#cv lib is a open computer vision lib -> img processing task\n",
        "import cv2\n",
        "#to display an img\n",
        "from google.colab.patches import cv2_imshow\n",
        "# PIL is PILLOW-> img processing task\n",
        "from PIL import Image\n",
        "import tensorflow as tf\n",
        "# When we feed the neural network w/ the trained data , the neutal network learns from it\n",
        "#Later when we test it w/ testing data , and if the seed (any value for say) is not provided\n",
        "#it will generate slightly diff vaalue even if same input is given\n",
        "#1 or 2 or any no. in the seed will produce identical results \n",
        "tf.random.set_seed(1)\n",
        "#dl lib to create neural network\n",
        "from tensorflow import keras\n",
        "# importing the dataset\n",
        "from keras.datasets import mnist\n",
        "from tensorflow.math import confusion_matrix"
      ]
    },
    {
      "cell_type": "markdown",
      "source": [
        "Data Collection Part (MNIST data ) from keras dataset\n",
        "\n",
        "It already pre processed the imgs\n"
      ],
      "metadata": {
        "id": "qYB7wpxl9bZh"
      }
    },
    {
      "cell_type": "code",
      "source": [
        "(X_train,Y_train),(X_test,Y_test) = mnist.load_data()\n",
        "# we will get 4 arrays"
      ],
      "metadata": {
        "id": "KEPc-eAJ79fY"
      },
      "execution_count": 21,
      "outputs": []
    },
    {
      "cell_type": "code",
      "source": [
        "# imgs have already been converted to numpt array\n",
        "type(X_train) # n dimensional array"
      ],
      "metadata": {
        "colab": {
          "base_uri": "https://localhost:8080/"
        },
        "id": "BhAFsWJjAmEB",
        "outputId": "f72404cd-b7da-44b7-813d-5c4896cd9f2e"
      },
      "execution_count": 22,
      "outputs": [
        {
          "output_type": "execute_result",
          "data": {
            "text/plain": [
              "numpy.ndarray"
            ]
          },
          "metadata": {},
          "execution_count": 22
        }
      ]
    },
    {
      "cell_type": "code",
      "source": [
        "#Shape of the numpy arrays\n",
        "(X_train.shape,Y_train.shape,X_test.shape,Y_test.shape)\n",
        "#(no. of imgs, width,height,grayscale or rgb )"
      ],
      "metadata": {
        "colab": {
          "base_uri": "https://localhost:8080/"
        },
        "id": "l_kEY2DzA1U6",
        "outputId": "a77b1801-5b76-49c3-ddf4-e3617a35d51c"
      },
      "execution_count": 23,
      "outputs": [
        {
          "output_type": "execute_result",
          "data": {
            "text/plain": [
              "((60000, 28, 28), (60000,), (10000, 28, 28), (10000,))"
            ]
          },
          "metadata": {},
          "execution_count": 23
        }
      ]
    },
    {
      "cell_type": "code",
      "source": [
        "#printing a particular img\n",
        "print(X_train[5])"
      ],
      "metadata": {
        "colab": {
          "base_uri": "https://localhost:8080/"
        },
        "id": "jLBmSST0Cm0Q",
        "outputId": "0ad201fc-4e49-4c51-d588-896b0c1f9379"
      },
      "execution_count": 24,
      "outputs": [
        {
          "output_type": "stream",
          "name": "stdout",
          "text": [
            "[[  0   0   0   0   0   0   0   0   0   0   0   0   0   0   0   0   0   0\n",
            "    0   0   0   0   0   0   0   0   0   0]\n",
            " [  0   0   0   0   0   0   0   0   0   0   0   0   0   0   0   0   0   0\n",
            "    0   0   0   0   0   0   0   0   0   0]\n",
            " [  0   0   0   0   0   0   0   0   0   0   0   0   0   0   0   0   0   0\n",
            "    0   0   0   0   0   0   0   0   0   0]\n",
            " [  0   0   0   0   0   0   0   0   0   0   0   0   0   0   0   0   0   0\n",
            "    0   0   0   0   0   0   0   0   0   0]\n",
            " [  0   0   0   0   0   0   0   0   0   0   0   0   0   0   0   0   0   0\n",
            "    0   0   0   0   0   0   0   0   0   0]\n",
            " [  0   0   0   0   0   0   0   0   0   0   0   0   0   0   0  13  25 100\n",
            "  122   7   0   0   0   0   0   0   0   0]\n",
            " [  0   0   0   0   0   0   0   0   0   0   0   0   0  33 151 208 252 252\n",
            "  252 146   0   0   0   0   0   0   0   0]\n",
            " [  0   0   0   0   0   0   0   0   0   0   0  40 152 244 252 253 224 211\n",
            "  252 232  40   0   0   0   0   0   0   0]\n",
            " [  0   0   0   0   0   0   0   0   0  15 152 239 252 252 252 216  31  37\n",
            "  252 252  60   0   0   0   0   0   0   0]\n",
            " [  0   0   0   0   0   0   0   0   0  96 252 252 252 252 217  29   0  37\n",
            "  252 252  60   0   0   0   0   0   0   0]\n",
            " [  0   0   0   0   0   0   0   0   0 181 252 252 220 167  30   0   0  77\n",
            "  252 252  60   0   0   0   0   0   0   0]\n",
            " [  0   0   0   0   0   0   0   0   0  26 128  58  22   0   0   0   0 100\n",
            "  252 252  60   0   0   0   0   0   0   0]\n",
            " [  0   0   0   0   0   0   0   0   0   0   0   0   0   0   0   0   0 157\n",
            "  252 252  60   0   0   0   0   0   0   0]\n",
            " [  0   0   0   0   0   0   0   0   0   0   0   0   0 110 121 122 121 202\n",
            "  252 194   3   0   0   0   0   0   0   0]\n",
            " [  0   0   0   0   0   0   0   0   0   0  10  53 179 253 253 255 253 253\n",
            "  228  35   0   0   0   0   0   0   0   0]\n",
            " [  0   0   0   0   0   0   0   0   5  54 227 252 243 228 170 242 252 252\n",
            "  231 117   6   0   0   0   0   0   0   0]\n",
            " [  0   0   0   0   0   0   0   6  78 252 252 125  59   0  18 208 252 252\n",
            "  252 252  87   7   0   0   0   0   0   0]\n",
            " [  0   0   0   0   0   0   5 135 252 252 180  16   0  21 203 253 247 129\n",
            "  173 252 252 184  66  49  49   0   0   0]\n",
            " [  0   0   0   0   0   3 136 252 241 106  17   0  53 200 252 216  65   0\n",
            "   14  72 163 241 252 252 223   0   0   0]\n",
            " [  0   0   0   0   0 105 252 242  88  18  73 170 244 252 126  29   0   0\n",
            "    0   0   0  89 180 180  37   0   0   0]\n",
            " [  0   0   0   0   0 231 252 245 205 216 252 252 252 124   3   0   0   0\n",
            "    0   0   0   0   0   0   0   0   0   0]\n",
            " [  0   0   0   0   0 207 252 252 252 252 178 116  36   4   0   0   0   0\n",
            "    0   0   0   0   0   0   0   0   0   0]\n",
            " [  0   0   0   0   0  13  93 143 121  23   6   0   0   0   0   0   0   0\n",
            "    0   0   0   0   0   0   0   0   0   0]\n",
            " [  0   0   0   0   0   0   0   0   0   0   0   0   0   0   0   0   0   0\n",
            "    0   0   0   0   0   0   0   0   0   0]\n",
            " [  0   0   0   0   0   0   0   0   0   0   0   0   0   0   0   0   0   0\n",
            "    0   0   0   0   0   0   0   0   0   0]\n",
            " [  0   0   0   0   0   0   0   0   0   0   0   0   0   0   0   0   0   0\n",
            "    0   0   0   0   0   0   0   0   0   0]\n",
            " [  0   0   0   0   0   0   0   0   0   0   0   0   0   0   0   0   0   0\n",
            "    0   0   0   0   0   0   0   0   0   0]\n",
            " [  0   0   0   0   0   0   0   0   0   0   0   0   0   0   0   0   0   0\n",
            "    0   0   0   0   0   0   0   0   0   0]]\n"
          ]
        }
      ]
    },
    {
      "cell_type": "code",
      "source": [
        "#printing the dimension\n",
        "print(X_train[5].shape)"
      ],
      "metadata": {
        "colab": {
          "base_uri": "https://localhost:8080/"
        },
        "id": "0QKNgJBNDJXX",
        "outputId": "54c545ba-e1f1-49bd-d1aa-41d4b2fe3a7d"
      },
      "execution_count": 25,
      "outputs": [
        {
          "output_type": "stream",
          "name": "stdout",
          "text": [
            "(28, 28)\n"
          ]
        }
      ]
    },
    {
      "cell_type": "code",
      "source": [
        "#displaying the img\n",
        "plt.imshow(X_train[1600])\n",
        "plt.show()\n",
        "\n",
        "print(\"\")\n",
        "#printing the corresponding label for X_train +nt in tthe Y_train\n",
        "print(\"Y_train label contains\",Y_train[1600],\"at the exact same index.\")"
      ],
      "metadata": {
        "colab": {
          "base_uri": "https://localhost:8080/",
          "height": 300
        },
        "id": "5tJfcMqzDPkW",
        "outputId": "0bd10f49-fcc7-425b-97b1-3db6e468b553"
      },
      "execution_count": 34,
      "outputs": [
        {
          "output_type": "display_data",
          "data": {
            "text/plain": [
              "<Figure size 432x288 with 1 Axes>"
            ],
            "image/png": "[encoded data removed]"
          },
          "metadata": {
            "needs_background": "light"
          }
        },
        {
          "output_type": "stream",
          "name": "stdout",
          "text": [
            "\n",
            "Y_train label contains 0 at the exact same index.\n"
          ]
        }
      ]
    },
    {
      "cell_type": "markdown",
      "source": [
        "Label uniqueness "
      ],
      "metadata": {
        "id": "YXc3Mz_oFRjs"
      }
    },
    {
      "cell_type": "code",
      "source": [
        "print(np.unique(Y_train)) #finding all the unque arrays in numpy array Y_train"
      ],
      "metadata": {
        "colab": {
          "base_uri": "https://localhost:8080/"
        },
        "id": "-XsOnlMyDhe9",
        "outputId": "8d2efc87-7e41-4073-b9a7-891d035968a5"
      },
      "execution_count": 28,
      "outputs": [
        {
          "output_type": "stream",
          "name": "stdout",
          "text": [
            "[0 1 2 3 4 5 6 7 8 9]\n"
          ]
        }
      ]
    },
    {
      "cell_type": "code",
      "source": [
        "print(np.unique(Y_test)) #finding all the unque arrays in numpy array Y_test"
      ],
      "metadata": {
        "colab": {
          "base_uri": "https://localhost:8080/"
        },
        "id": "l-yBkyfdFKH7",
        "outputId": "ea36165d-e909-4339-b3cc-ba8b94c999cf"
      },
      "execution_count": 35,
      "outputs": [
        {
          "output_type": "stream",
          "name": "stdout",
          "text": [
            "[0 1 2 3 4 5 6 7 8 9]\n"
          ]
        }
      ]
    },
    {
      "cell_type": "markdown",
      "source": [
        "One Hot encoding (study this)"
      ],
      "metadata": {
        "id": "q8tnZowxGA5Z"
      }
    },
    {
      "cell_type": "code",
      "source": [
        "#GrayScaling the values fo the imgs in the range 0 to 1\n",
        "X_train = X_train/255\n",
        "X_test = X_test/255"
      ],
      "metadata": {
        "id": "8lO-6SuoFQUW"
      },
      "execution_count": 36,
      "outputs": []
    },
    {
      "cell_type": "code",
      "source": [
        "#printing a particular img\n",
        "print(X_train[5])"
      ],
      "metadata": {
        "colab": {
          "base_uri": "https://localhost:8080/"
        },
        "id": "mfDiuIGhGzxB",
        "outputId": "5150b7fa-f097-4ae5-e625-e969bb667c9e"
      },
      "execution_count": 37,
      "outputs": [
        {
          "output_type": "stream",
          "name": "stdout",
          "text": [
            "[[0.         0.         0.         0.         0.         0.\n",
            "  0.         0.         0.         0.         0.         0.\n",
            "  0.         0.         0.         0.         0.         0.\n",
            "  0.         0.         0.         0.         0.         0.\n",
            "  0.         0.         0.         0.        ]\n",
            " [0.         0.         0.         0.         0.         0.\n",
            "  0.         0.         0.         0.         0.         0.\n",
            "  0.         0.         0.         0.         0.         0.\n",
            "  0.         0.         0.         0.         0.         0.\n",
            "  0.         0.         0.         0.        ]\n",
            " [0.         0.         0.         0.         0.         0.\n",
            "  0.         0.         0.         0.         0.         0.\n",
            "  0.         0.         0.         0.         0.         0.\n",
            "  0.         0.         0.         0.         0.         0.\n",
            "  0.         0.         0.         0.        ]\n",
            " [0.         0.         0.         0.         0.         0.\n",
            "  0.         0.         0.         0.         0.         0.\n",
            "  0.         0.         0.         0.         0.         0.\n",
            "  0.         0.         0.         0.         0.         0.\n",
            "  0.         0.         0.         0.        ]\n",
            " [0.         0.         0.         0.         0.         0.\n",
            "  0.         0.         0.         0.         0.         0.\n",
            "  0.         0.         0.         0.         0.         0.\n",
            "  0.         0.         0.         0.         0.         0.\n",
            "  0.         0.         0.         0.        ]\n",
            " [0.         0.         0.         0.         0.         0.\n",
            "  0.         0.         0.         0.         0.         0.\n",
            "  0.         0.         0.         0.05098039 0.09803922 0.39215686\n",
            "  0.47843137 0.02745098 0.         0.         0.         0.\n",
            "  0.         0.         0.         0.        ]\n",
            " [0.         0.         0.         0.         0.         0.\n",
            "  0.         0.         0.         0.         0.         0.\n",
            "  0.         0.12941176 0.59215686 0.81568627 0.98823529 0.98823529\n",
            "  0.98823529 0.57254902 0.         0.         0.         0.\n",
            "  0.         0.         0.         0.        ]\n",
            " [0.         0.         0.         0.         0.         0.\n",
            "  0.         0.         0.         0.         0.         0.15686275\n",
            "  0.59607843 0.95686275 0.98823529 0.99215686 0.87843137 0.82745098\n",
            "  0.98823529 0.90980392 0.15686275 0.         0.         0.\n",
            "  0.         0.         0.         0.        ]\n",
            " [0.         0.         0.         0.         0.         0.\n",
            "  0.         0.         0.         0.05882353 0.59607843 0.9372549\n",
            "  0.98823529 0.98823529 0.98823529 0.84705882 0.12156863 0.14509804\n",
            "  0.98823529 0.98823529 0.23529412 0.         0.         0.\n",
            "  0.         0.         0.         0.        ]\n",
            " [0.         0.         0.         0.         0.         0.\n",
            "  0.         0.         0.         0.37647059 0.98823529 0.98823529\n",
            "  0.98823529 0.98823529 0.85098039 0.11372549 0.         0.14509804\n",
            "  0.98823529 0.98823529 0.23529412 0.         0.         0.\n",
            "  0.         0.         0.         0.        ]\n",
            " [0.         0.         0.         0.         0.         0.\n",
            "  0.         0.         0.         0.70980392 0.98823529 0.98823529\n",
            "  0.8627451  0.65490196 0.11764706 0.         0.         0.30196078\n",
            "  0.98823529 0.98823529 0.23529412 0.         0.         0.\n",
            "  0.         0.         0.         0.        ]\n",
            " [0.         0.         0.         0.         0.         0.\n",
            "  0.         0.         0.         0.10196078 0.50196078 0.22745098\n",
            "  0.08627451 0.         0.         0.         0.         0.39215686\n",
            "  0.98823529 0.98823529 0.23529412 0.         0.         0.\n",
            "  0.         0.         0.         0.        ]\n",
            " [0.         0.         0.         0.         0.         0.\n",
            "  0.         0.         0.         0.         0.         0.\n",
            "  0.         0.         0.         0.         0.         0.61568627\n",
            "  0.98823529 0.98823529 0.23529412 0.         0.         0.\n",
            "  0.         0.         0.         0.        ]\n",
            " [0.         0.         0.         0.         0.         0.\n",
            "  0.         0.         0.         0.         0.         0.\n",
            "  0.         0.43137255 0.4745098  0.47843137 0.4745098  0.79215686\n",
            "  0.98823529 0.76078431 0.01176471 0.         0.         0.\n",
            "  0.         0.         0.         0.        ]\n",
            " [0.         0.         0.         0.         0.         0.\n",
            "  0.         0.         0.         0.         0.03921569 0.20784314\n",
            "  0.70196078 0.99215686 0.99215686 1.         0.99215686 0.99215686\n",
            "  0.89411765 0.1372549  0.         0.         0.         0.\n",
            "  0.         0.         0.         0.        ]\n",
            " [0.         0.         0.         0.         0.         0.\n",
            "  0.         0.         0.01960784 0.21176471 0.89019608 0.98823529\n",
            "  0.95294118 0.89411765 0.66666667 0.94901961 0.98823529 0.98823529\n",
            "  0.90588235 0.45882353 0.02352941 0.         0.         0.\n",
            "  0.         0.         0.         0.        ]\n",
            " [0.         0.         0.         0.         0.         0.\n",
            "  0.         0.02352941 0.30588235 0.98823529 0.98823529 0.49019608\n",
            "  0.23137255 0.         0.07058824 0.81568627 0.98823529 0.98823529\n",
            "  0.98823529 0.98823529 0.34117647 0.02745098 0.         0.\n",
            "  0.         0.         0.         0.        ]\n",
            " [0.         0.         0.         0.         0.         0.\n",
            "  0.01960784 0.52941176 0.98823529 0.98823529 0.70588235 0.0627451\n",
            "  0.         0.08235294 0.79607843 0.99215686 0.96862745 0.50588235\n",
            "  0.67843137 0.98823529 0.98823529 0.72156863 0.25882353 0.19215686\n",
            "  0.19215686 0.         0.         0.        ]\n",
            " [0.         0.         0.         0.         0.         0.01176471\n",
            "  0.53333333 0.98823529 0.94509804 0.41568627 0.06666667 0.\n",
            "  0.20784314 0.78431373 0.98823529 0.84705882 0.25490196 0.\n",
            "  0.05490196 0.28235294 0.63921569 0.94509804 0.98823529 0.98823529\n",
            "  0.8745098  0.         0.         0.        ]\n",
            " [0.         0.         0.         0.         0.         0.41176471\n",
            "  0.98823529 0.94901961 0.34509804 0.07058824 0.28627451 0.66666667\n",
            "  0.95686275 0.98823529 0.49411765 0.11372549 0.         0.\n",
            "  0.         0.         0.         0.34901961 0.70588235 0.70588235\n",
            "  0.14509804 0.         0.         0.        ]\n",
            " [0.         0.         0.         0.         0.         0.90588235\n",
            "  0.98823529 0.96078431 0.80392157 0.84705882 0.98823529 0.98823529\n",
            "  0.98823529 0.48627451 0.01176471 0.         0.         0.\n",
            "  0.         0.         0.         0.         0.         0.\n",
            "  0.         0.         0.         0.        ]\n",
            " [0.         0.         0.         0.         0.         0.81176471\n",
            "  0.98823529 0.98823529 0.98823529 0.98823529 0.69803922 0.45490196\n",
            "  0.14117647 0.01568627 0.         0.         0.         0.\n",
            "  0.         0.         0.         0.         0.         0.\n",
            "  0.         0.         0.         0.        ]\n",
            " [0.         0.         0.         0.         0.         0.05098039\n",
            "  0.36470588 0.56078431 0.4745098  0.09019608 0.02352941 0.\n",
            "  0.         0.         0.         0.         0.         0.\n",
            "  0.         0.         0.         0.         0.         0.\n",
            "  0.         0.         0.         0.        ]\n",
            " [0.         0.         0.         0.         0.         0.\n",
            "  0.         0.         0.         0.         0.         0.\n",
            "  0.         0.         0.         0.         0.         0.\n",
            "  0.         0.         0.         0.         0.         0.\n",
            "  0.         0.         0.         0.        ]\n",
            " [0.         0.         0.         0.         0.         0.\n",
            "  0.         0.         0.         0.         0.         0.\n",
            "  0.         0.         0.         0.         0.         0.\n",
            "  0.         0.         0.         0.         0.         0.\n",
            "  0.         0.         0.         0.        ]\n",
            " [0.         0.         0.         0.         0.         0.\n",
            "  0.         0.         0.         0.         0.         0.\n",
            "  0.         0.         0.         0.         0.         0.\n",
            "  0.         0.         0.         0.         0.         0.\n",
            "  0.         0.         0.         0.        ]\n",
            " [0.         0.         0.         0.         0.         0.\n",
            "  0.         0.         0.         0.         0.         0.\n",
            "  0.         0.         0.         0.         0.         0.\n",
            "  0.         0.         0.         0.         0.         0.\n",
            "  0.         0.         0.         0.        ]\n",
            " [0.         0.         0.         0.         0.         0.\n",
            "  0.         0.         0.         0.         0.         0.\n",
            "  0.         0.         0.         0.         0.         0.\n",
            "  0.         0.         0.         0.         0.         0.\n",
            "  0.         0.         0.         0.        ]]\n"
          ]
        }
      ]
    },
    {
      "cell_type": "markdown",
      "source": [
        "Processing section done"
      ],
      "metadata": {
        "id": "yaGe7bqzHt0y"
      }
    },
    {
      "cell_type": "markdown",
      "source": [
        "Creating the neural network"
      ],
      "metadata": {
        "id": "EkEnoIqmHttS"
      }
    },
    {
      "cell_type": "markdown",
      "source": [
        "CNN(convolutional neural network) is mainly for img recognision and recurrent neural network is used for voice, audio etc"
      ],
      "metadata": {
        "id": "ThsS5V9sIOKc"
      }
    },
    {
      "cell_type": "code",
      "source": [
        "#Setting up the layers of the neural network\n",
        "model = keras.Sequential([\n",
        "     keras.layers.Flatten(input_shape=(28,28)),\n",
        "     #Flatten flattens the 2D array into a single line\n",
        "     keras.layers.Dense(50,activation='relu'), #Rectified Linear Unit\n",
        "     keras.layers.Dense(50,activation='relu'),\n",
        "     keras.layers.Dense(10,activation='sigmoid')# output layer\n",
        "     # there are only 10 digits as the labels\n",
        "     #so this needs to be 10\n",
        "     #relu activation functions no. can be diff\n",
        "\n",
        "])"
      ],
      "metadata": {
        "id": "sst6xEAhHekt"
      },
      "execution_count": 40,
      "outputs": []
    },
    {
      "cell_type": "code",
      "source": [
        "# Compilation of thr Neural Network\n",
        "model.compile(optimizer = 'adam', #optimizer selectio depends on the accuracy lvl\n",
        "              loss ='sparse_categorical_crossentropy',\n",
        "              # simple digits\n",
        "              metrics= ['accuracy'])"
      ],
      "metadata": {
        "id": "5bzM3Lp1VpZY"
      },
      "execution_count": 43,
      "outputs": []
    },
    {
      "cell_type": "code",
      "source": [
        "#Training the neural Network\n",
        "model.fit(X_train,Y_train,epochs=10) #no. of the times neural network wo=ill go thru the data\n"
      ],
      "metadata": {
        "colab": {
          "base_uri": "https://localhost:8080/"
        },
        "id": "HjKD76cDXL5b",
        "outputId": "02923cf4-2752-43c4-94d5-e59a6af6c1b0"
      },
      "execution_count": 45,
      "outputs": [
        {
          "output_type": "stream",
          "name": "stdout",
          "text": [
            "Epoch 1/10\n",
            "1875/1875 [==============================] - 5s 3ms/step - loss: 0.0339 - accuracy: 0.9889\n",
            "Epoch 2/10\n",
            "1875/1875 [==============================] - 5s 2ms/step - loss: 0.0312 - accuracy: 0.9899\n",
            "Epoch 3/10\n",
            "1875/1875 [==============================] - 5s 2ms/step - loss: 0.0297 - accuracy: 0.9908\n",
            "Epoch 4/10\n",
            "1875/1875 [==============================] - 5s 2ms/step - loss: 0.0260 - accuracy: 0.9916\n",
            "Epoch 5/10\n",
            "1875/1875 [==============================] - 5s 3ms/step - loss: 0.0226 - accuracy: 0.9927\n",
            "Epoch 6/10\n",
            "1875/1875 [==============================] - 4s 2ms/step - loss: 0.0221 - accuracy: 0.9926\n",
            "Epoch 7/10\n",
            "1875/1875 [==============================] - 7s 4ms/step - loss: 0.0190 - accuracy: 0.9938\n",
            "Epoch 8/10\n",
            "1875/1875 [==============================] - 5s 3ms/step - loss: 0.0170 - accuracy: 0.9943\n",
            "Epoch 9/10\n",
            "1875/1875 [==============================] - 5s 3ms/step - loss: 0.0188 - accuracy: 0.9936\n",
            "Epoch 10/10\n",
            "1875/1875 [==============================] - 5s 3ms/step - loss: 0.0154 - accuracy: 0.9945\n"
          ]
        },
        {
          "output_type": "execute_result",
          "data": {
            "text/plain": [
              "<keras.callbacks.History at 0x7f71b87b7950>"
            ]
          },
          "metadata": {},
          "execution_count": 45
        }
      ]
    },
    {
      "cell_type": "markdown",
      "source": [
        "Accuracy of traning data = 0.9945 or 99.45%"
      ],
      "metadata": {
        "id": "CfOQbqCdYi6w"
      }
    },
    {
      "cell_type": "code",
      "source": [
        "loss,accuracy = model.evaluate(X_test, Y_test)\n",
        "print(\"The test data accuracy\",accuracy,\"or\",accuracy*100,\"%\")"
      ],
      "metadata": {
        "colab": {
          "base_uri": "https://localhost:8080/"
        },
        "id": "L82yfmyvYeRK",
        "outputId": "959dd425-2e39-4943-b49a-213f63555635"
      },
      "execution_count": 49,
      "outputs": [
        {
          "output_type": "stream",
          "name": "stdout",
          "text": [
            "313/313 [==============================] - 1s 2ms/step - loss: 0.1161 - accuracy: 0.9753\n",
            "The test data accuracy 0.9753000140190125 or 97.53000140190125 %\n"
          ]
        }
      ]
    },
    {
      "cell_type": "code",
      "source": [
        "print(X_test.shape)"
      ],
      "metadata": {
        "colab": {
          "base_uri": "https://localhost:8080/"
        },
        "id": "DhNuhaGVZB3x",
        "outputId": "03526f00-0e09-4530-c5e8-62c869a33018"
      },
      "execution_count": 50,
      "outputs": [
        {
          "output_type": "stream",
          "name": "stdout",
          "text": [
            "(10000, 28, 28)\n"
          ]
        }
      ]
    },
    {
      "cell_type": "code",
      "source": [
        "plt.imshow(X_test[0]) # the first data pnt in X_test\n",
        "plt.show()\n",
        "\n",
        "print(\"\")\n",
        "print(Y_test[0])"
      ],
      "metadata": {
        "colab": {
          "base_uri": "https://localhost:8080/",
          "height": 300
        },
        "id": "H4UbfSDJZjOB",
        "outputId": "9a4dc333-c89e-4b46-d5ad-38f9b1e12da6"
      },
      "execution_count": 53,
      "outputs": [
        {
          "output_type": "display_data",
          "data": {
            "text/plain": [
              "<Figure size 432x288 with 1 Axes>"
            ],
            "image/png": "[encoded data removed]"
          },
          "metadata": {
            "needs_background": "light"
          }
        },
        {
          "output_type": "stream",
          "name": "stdout",
          "text": [
            "\n",
            "7\n"
          ]
        }
      ]
    },
    {
      "cell_type": "code",
      "source": [
        "Y_prediction = model.predict(X_test) # predict labels for all the 10k imgs\n"
      ],
      "metadata": {
        "colab": {
          "base_uri": "https://localhost:8080/"
        },
        "id": "-rVCh0KvZq_K",
        "outputId": "b325dddf-569b-49af-a091-e8cc141d0258"
      },
      "execution_count": 54,
      "outputs": [
        {
          "output_type": "stream",
          "name": "stdout",
          "text": [
            "313/313 [==============================] - 1s 2ms/step\n"
          ]
        }
      ]
    },
    {
      "cell_type": "code",
      "source": [
        "print(Y_prediction.shape) #10 becoz there are 10 values in a single label printing probabilities as the neural network visita=s all the 10 labels"
      ],
      "metadata": {
        "colab": {
          "base_uri": "https://localhost:8080/"
        },
        "id": "AVgHxq6xaVAz",
        "outputId": "7faba96e-1b1d-45b1-f75a-d3dc14fa50ed"
      },
      "execution_count": 56,
      "outputs": [
        {
          "output_type": "stream",
          "name": "stdout",
          "text": [
            "(10000, 10)\n"
          ]
        }
      ]
    },
    {
      "cell_type": "code",
      "source": [
        "print(Y_prediction[0]) "
      ],
      "metadata": {
        "colab": {
          "base_uri": "https://localhost:8080/"
        },
        "id": "rrJitOxtahVt",
        "outputId": "58ef3564-b8bb-4adc-c7ac-fedf22fa0785"
      },
      "execution_count": 58,
      "outputs": [
        {
          "output_type": "stream",
          "name": "stdout",
          "text": [
            "[7.5251386e-08 3.4151103e-03 4.6808827e-03 9.6085846e-01 4.9981468e-09\n",
            " 3.1865185e-01 3.3643453e-16 9.9999964e-01 3.0897509e-03 6.3935524e-01]\n"
          ]
        }
      ]
    },
    {
      "cell_type": "markdown",
      "source": [
        "model.predict() gives the prediction probability of each class for that data point -- VVIMP\n"
      ],
      "metadata": {
        "id": "YL21ELlHb0ru"
      }
    },
    {
      "cell_type": "code",
      "source": [],
      "metadata": {
        "id": "epmp6zasa2-f"
      },
      "execution_count": 57,
      "outputs": []
    }
  ]
}